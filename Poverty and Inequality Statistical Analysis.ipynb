{
 "cells": [
  {
   "cell_type": "markdown",
   "id": "79bc30c4-30b4-4b1d-bcaf-8940193c91b9",
   "metadata": {},
   "source": [
    "# Homework 4\n",
    "\n",
    "**INSTRUCTIONS - Please read carefully.**\n",
    "\n",
    "1. Please complete the following data analysis exercises and upload a copy (one per team) of the completed and executed notebook as your homework submission.\n",
    "\n",
    "2. A blank code cell has been created below each section (subpart) for you to add the relevant code. Add additional code cells as needed to conduct the analysis. Execute all code cells to display the results. All numerical questions should be answered using code. For example, if a count is needed, write code to generate the count. If the task asks for an insight, use the markdown cell below the code cell and output to provide your insights as needed by interpreting the numbers. If insights are not included, you will not receive full credit.\n",
    "\n",
    "3. Add comments in each cell to explain what the code is meant to achieve. For example,\n",
    "```\n",
    "# group data on columns A and B and calculate the average of column C for each group\n",
    "```\n",
    "\n",
    "\n",
    "4. You can search for helpful functions and code to achieve specific tasks like \"how to search for a value in a list\" or \"how to group data by multiple columns\" but you may not post the specific questions online or otherwise seek someone's help in answering the specific homework questions. Doing so will result in a zero on the assignment and could result in a failing grade in the course."
   ]
  },
  {
   "cell_type": "markdown",
   "id": "9e1197f0-afc3-4787-9857-aa0a5fe075c6",
   "metadata": {},
   "source": [
    "<hr/>\n",
    "\n",
    "\n",
    "## <font color='blue'>Part 1 - The Statistics of Poverty and Inequality </font>\n",
    "\n",
    "Use the data in the *modified* PovertyData.csv file provided with the assignment to perform the following analysis.\n",
    "\n",
    "<HR/>\n"
   ]
  },
  {
   "cell_type": "markdown",
   "id": "2049be19-3548-4981-8fff-8e3df0c630a9",
   "metadata": {},
   "source": [
    "<HR/>\n",
    "\n",
    "### <font color = 'blue'>A. </font>\n",
    "\n",
    "##### <font color = 'blue'>Read the data into a data frame (check column names, missing vaues, data types etc. to ensure that the data is in a format fit for analysis). Display the first five rows.</font>\n",
    "\n",
    "<HR/>"
   ]
  },
  {
   "cell_type": "code",
   "execution_count": 2,
   "id": "804db8cb-01b1-46fc-ab99-231a06c6791e",
   "metadata": {},
   "outputs": [
    {
     "name": "stdout",
     "output_type": "stream",
     "text": [
      "Checking column names\n",
      "--------------------------------\n",
      "Index(['LiveBirthRate', 'DeathRate', 'InfantDeaths', 'MaleLifeExpectancy',\n",
      "       'FemaleLifeExpectancy', 'GNI', 'Region', 'Country'],\n",
      "      dtype='object')\n",
      "--------------------------------\n",
      "Checking data types\n",
      "--------------------------------\n",
      "LiveBirthRate           float64\n",
      "DeathRate               float64\n",
      "InfantDeaths            float64\n",
      "MaleLifeExpectancy      float64\n",
      "FemaleLifeExpectancy    float64\n",
      "GNI                     float64\n",
      "Region                    int64\n",
      "Country                  object\n",
      "dtype: object\n",
      "--------------------------------\n",
      "Printing first 5 rows\n"
     ]
    },
    {
     "data": {
      "text/html": [
       "<div>\n",
       "<style scoped>\n",
       "    .dataframe tbody tr th:only-of-type {\n",
       "        vertical-align: middle;\n",
       "    }\n",
       "\n",
       "    .dataframe tbody tr th {\n",
       "        vertical-align: top;\n",
       "    }\n",
       "\n",
       "    .dataframe thead th {\n",
       "        text-align: right;\n",
       "    }\n",
       "</style>\n",
       "<table border=\"1\" class=\"dataframe\">\n",
       "  <thead>\n",
       "    <tr style=\"text-align: right;\">\n",
       "      <th></th>\n",
       "      <th>LiveBirthRate</th>\n",
       "      <th>DeathRate</th>\n",
       "      <th>InfantDeaths</th>\n",
       "      <th>MaleLifeExpectancy</th>\n",
       "      <th>FemaleLifeExpectancy</th>\n",
       "      <th>GNI</th>\n",
       "      <th>Region</th>\n",
       "      <th>Country</th>\n",
       "    </tr>\n",
       "  </thead>\n",
       "  <tbody>\n",
       "    <tr>\n",
       "      <th>0</th>\n",
       "      <td>24.7</td>\n",
       "      <td>5.7</td>\n",
       "      <td>30.8</td>\n",
       "      <td>69.6</td>\n",
       "      <td>75.5</td>\n",
       "      <td>600.0</td>\n",
       "      <td>1</td>\n",
       "      <td>Albania</td>\n",
       "    </tr>\n",
       "    <tr>\n",
       "      <th>1</th>\n",
       "      <td>12.5</td>\n",
       "      <td>11.9</td>\n",
       "      <td>14.4</td>\n",
       "      <td>68.3</td>\n",
       "      <td>74.7</td>\n",
       "      <td>2250.0</td>\n",
       "      <td>1</td>\n",
       "      <td>Bulgaria</td>\n",
       "    </tr>\n",
       "    <tr>\n",
       "      <th>2</th>\n",
       "      <td>13.4</td>\n",
       "      <td>11.7</td>\n",
       "      <td>11.3</td>\n",
       "      <td>71.8</td>\n",
       "      <td>77.7</td>\n",
       "      <td>2980.0</td>\n",
       "      <td>1</td>\n",
       "      <td>Czechoslovakia</td>\n",
       "    </tr>\n",
       "    <tr>\n",
       "      <th>3</th>\n",
       "      <td>12.0</td>\n",
       "      <td>12.4</td>\n",
       "      <td>7.6</td>\n",
       "      <td>69.8</td>\n",
       "      <td>75.9</td>\n",
       "      <td>NaN</td>\n",
       "      <td>1</td>\n",
       "      <td>Former_E._Germany</td>\n",
       "    </tr>\n",
       "    <tr>\n",
       "      <th>4</th>\n",
       "      <td>11.6</td>\n",
       "      <td>13.4</td>\n",
       "      <td>14.8</td>\n",
       "      <td>65.4</td>\n",
       "      <td>73.8</td>\n",
       "      <td>2780.0</td>\n",
       "      <td>1</td>\n",
       "      <td>Hungary</td>\n",
       "    </tr>\n",
       "  </tbody>\n",
       "</table>\n",
       "</div>"
      ],
      "text/plain": [
       "   LiveBirthRate  DeathRate  InfantDeaths  MaleLifeExpectancy  \\\n",
       "0           24.7        5.7          30.8                69.6   \n",
       "1           12.5       11.9          14.4                68.3   \n",
       "2           13.4       11.7          11.3                71.8   \n",
       "3           12.0       12.4           7.6                69.8   \n",
       "4           11.6       13.4          14.8                65.4   \n",
       "\n",
       "   FemaleLifeExpectancy     GNI  Region            Country  \n",
       "0                  75.5   600.0       1            Albania  \n",
       "1                  74.7  2250.0       1           Bulgaria  \n",
       "2                  77.7  2980.0       1     Czechoslovakia  \n",
       "3                  75.9     NaN       1  Former_E._Germany  \n",
       "4                  73.8  2780.0       1            Hungary  "
      ]
     },
     "execution_count": 2,
     "metadata": {},
     "output_type": "execute_result"
    }
   ],
   "source": [
    "# your code here\n",
    "import pandas as pd\n",
    "\n",
    "#reading data and checking missing values \n",
    "data = pd.read_excel(\"../HW/ModifiedPovertyData.xlsx\" , sheet_name = 'in', na_values = '**')\n",
    "\n",
    "#checking data types and displaying first 5 rows\n",
    "print(\"Checking column names\")\n",
    "print(\"--------------------------------\")\n",
    "print(data.columns)\n",
    "print(\"--------------------------------\")\n",
    "print('Checking data types')\n",
    "print(\"--------------------------------\")\n",
    "print(data.dtypes)\n",
    "print(\"--------------------------------\")\n",
    "print(\"Printing first 5 rows\")\n",
    "data.head()"
   ]
  },
  {
   "cell_type": "markdown",
   "id": "9413d381-adae-4e60-8bc7-6e6d8f3285a0",
   "metadata": {},
   "source": [
    "<HR/>\n",
    "\n",
    "### <font color = 'blue'>B.</font> \n",
    "##### <font color = 'blue'>The global average crude birth rate in 2016 was 19 per 1,000 ([Rosenberg, 2019](https://www.thoughtco.com/crude-birth-rate-1435459)). Identify and list the countries that have live birth rates lower than 19 and show their live birth rates. How many such countries are there in the dataset?\n",
    "*Optional:* See if you can list the countries in descending order of the live birth rates.</font>\n",
    "\n",
    "<HR/>"
   ]
  },
  {
   "cell_type": "code",
   "execution_count": 3,
   "id": "bee0c665-6411-4466-b3f6-c337ae56c76a",
   "metadata": {},
   "outputs": [
    {
     "name": "stdout",
     "output_type": "stream",
     "text": [
      "              Country  LiveBirthRate\n",
      "20            Uruguay           18.0\n",
      "66          Singapore           17.8\n",
      "8                USSR           17.7\n",
      "41             U.S.A.           16.7\n",
      "9    Byelorussian_SSR           15.2\n",
      "29            Ireland           15.1\n",
      "38            Austria           14.9\n",
      "40             Canada           14.5\n",
      "35             Sweden           14.5\n",
      "32             Norway           14.3\n",
      "5              Poland           14.3\n",
      "7          Yugoslavia           14.0\n",
      "6             Romania           13.6\n",
      "37               U.K.           13.6\n",
      "26             France           13.6\n",
      "10      Ukrainian_SSR           13.4\n",
      "2      Czechoslovakia           13.4\n",
      "24            Finland           13.2\n",
      "31        Netherlands           13.2\n",
      "36        Switzerland           12.5\n",
      "1            Bulgaria           12.5\n",
      "25            Denmark           12.4\n",
      "23            Belgium           12.0\n",
      "3   Former_E._Germany           12.0\n",
      "33           Portugal           11.9\n",
      "57          Hong_Kong           11.7\n",
      "4             Hungary           11.6\n",
      "27            Germany           11.4\n",
      "34              Spain           10.7\n",
      "28             Greece           10.1\n",
      "39              Japan            9.9\n",
      "30              Italy            9.7\n",
      "Number of Countries that have LiveBirthRate less than 19:  Country    32\n",
      "dtype: int64\n"
     ]
    }
   ],
   "source": [
    "# your code here \n",
    "\n",
    "#boolean subsetting \n",
    "lbrate = data[data['LiveBirthRate'] < 19]\n",
    "\n",
    "#printing in descending order of livebirthrate\n",
    "print(lbrate[['Country','LiveBirthRate']].sort_values('LiveBirthRate', ascending = False) )\n",
    "\n",
    "#counting the countries\n",
    "print('Number of Countries that have LiveBirthRate less than 19: ',lbrate[['Country']].count())"
   ]
  },
  {
   "cell_type": "markdown",
   "id": "21b32a10-a708-476f-bf0c-db53a7090894",
   "metadata": {},
   "source": [
    "<HR/>\n",
    "\n",
    "### <font color = 'blue'>C.</font> \n",
    "\n",
    "##### <font color = 'blue'>Suppose we classify death rates at or below 10 as 'low', 10+ to 20 as 'medium' and above 20 as 'high'. Identify the countries that fall into each category (no need to print the entire list) and calculate the average and standard deviation of the death rates in each category as well as the number of countries in each category. Create multiple code cells to organize your work, if needed.</font>\n",
    "\n",
    "<HR/>"
   ]
  },
  {
   "cell_type": "code",
   "execution_count": 4,
   "id": "c5e1a70f-336d-4796-95a3-2bb9912c567a",
   "metadata": {},
   "outputs": [
    {
     "name": "stdout",
     "output_type": "stream",
     "text": [
      "0              Albania\n",
      "7           Yugoslavia\n",
      "8                 USSR\n",
      "9     Byelorussian_SSR\n",
      "11           Argentina\n",
      "Name: Country, dtype: object\n",
      "1             Bulgaria\n",
      "2       Czechoslovakia\n",
      "3    Former_E._Germany\n",
      "4              Hungary\n",
      "5               Poland\n",
      "Name: Country, dtype: object\n",
      "22      Mexico\n",
      "71      Angola\n",
      "75    Ethiopia\n",
      "77      Gambia\n",
      "81      Malawi\n",
      "Name: Country, dtype: object\n",
      "-----------------------------\n",
      "Avg for Low: 7.639622641509433\n",
      "Avg for Medium: 13.3\n",
      "Avg for High: 22.014285714285712\n",
      "-----------------------------\n",
      "Std for Low: 1.7869548251620162\n",
      "Std for Medium: 2.6126827421466836\n",
      "Std for High: 1.8676443018131794\n",
      "-----------------------------\n",
      "Count for Low: 53\n",
      "Count for Medium: 37\n",
      "Count for High: 7\n"
     ]
    }
   ],
   "source": [
    "# your code here\n",
    "\n",
    "#boolean subsetting for classification\n",
    "low = data[data['DeathRate'] <= 10]\n",
    "medium = data[(data['DeathRate'] > 10) & (data['DeathRate'] <= 20)]\n",
    "high = data[data['DeathRate'] > 20]\n",
    "\n",
    "#printing first 5 rows\n",
    "print(low['Country'].head())\n",
    "print(medium['Country'].head())\n",
    "print(high['Country'].head())\n",
    "\n",
    "print('-----------------------------')\n",
    "\n",
    "#average of each category\n",
    "print('Avg for Low:',low['DeathRate'].mean())\n",
    "print('Avg for Medium:',medium['DeathRate'].mean())\n",
    "print('Avg for High:',high['DeathRate'].mean())\n",
    "\n",
    "print('-----------------------------')\n",
    "\n",
    "#standard deviation of each category\n",
    "print('Std for Low:',low['DeathRate'].std())\n",
    "print('Std for Medium:',medium['DeathRate'].std())\n",
    "print('Std for High:',high['DeathRate'].std())\n",
    "\n",
    "print('-----------------------------')\n",
    "\n",
    "#Count of country for each category\n",
    "print('Count for Low:',low['DeathRate'].count())\n",
    "print('Count for Medium:',medium['DeathRate'].count())\n",
    "print('Count for High:',high['DeathRate'].count())\n"
   ]
  },
  {
   "cell_type": "markdown",
   "id": "3ffc240d-d442-4996-aca2-df53bb4adf2a",
   "metadata": {},
   "source": [
    "<HR/>\n",
    "\n",
    "### <font color = 'blue'>D.</font> \n",
    "\n",
    "##### <font color = 'blue'>On average, who lives longer - men or women? Does that change depending on the Region of the world?</font>\n",
    "<HR/>"
   ]
  },
  {
   "cell_type": "code",
   "execution_count": 5,
   "id": "e7a4a433-5434-4284-912b-0fa0a5dcfb71",
   "metadata": {},
   "outputs": [
    {
     "name": "stdout",
     "output_type": "stream",
     "text": [
      "61.485567010309275\n",
      "66.15113402061857\n"
     ]
    },
    {
     "data": {
      "text/html": [
       "<div>\n",
       "<style scoped>\n",
       "    .dataframe tbody tr th:only-of-type {\n",
       "        vertical-align: middle;\n",
       "    }\n",
       "\n",
       "    .dataframe tbody tr th {\n",
       "        vertical-align: top;\n",
       "    }\n",
       "\n",
       "    .dataframe thead th {\n",
       "        text-align: right;\n",
       "    }\n",
       "</style>\n",
       "<table border=\"1\" class=\"dataframe\">\n",
       "  <thead>\n",
       "    <tr style=\"text-align: right;\">\n",
       "      <th></th>\n",
       "      <th>MaleLifeExpectancy</th>\n",
       "      <th>FemaleLifeExpectancy</th>\n",
       "    </tr>\n",
       "    <tr>\n",
       "      <th>Region</th>\n",
       "      <th></th>\n",
       "      <th></th>\n",
       "    </tr>\n",
       "  </thead>\n",
       "  <tbody>\n",
       "    <tr>\n",
       "      <th>1</th>\n",
       "      <td>67.690909</td>\n",
       "      <td>74.990909</td>\n",
       "    </tr>\n",
       "    <tr>\n",
       "      <th>2</th>\n",
       "      <td>62.708333</td>\n",
       "      <td>68.533333</td>\n",
       "    </tr>\n",
       "    <tr>\n",
       "      <th>3</th>\n",
       "      <td>71.500000</td>\n",
       "      <td>78.178947</td>\n",
       "    </tr>\n",
       "    <tr>\n",
       "      <th>4</th>\n",
       "      <td>64.818182</td>\n",
       "      <td>67.863636</td>\n",
       "    </tr>\n",
       "    <tr>\n",
       "      <th>5</th>\n",
       "      <td>60.488235</td>\n",
       "      <td>63.276471</td>\n",
       "    </tr>\n",
       "    <tr>\n",
       "      <th>6</th>\n",
       "      <td>50.637037</td>\n",
       "      <td>54.139259</td>\n",
       "    </tr>\n",
       "  </tbody>\n",
       "</table>\n",
       "</div>"
      ],
      "text/plain": [
       "        MaleLifeExpectancy  FemaleLifeExpectancy\n",
       "Region                                          \n",
       "1                67.690909             74.990909\n",
       "2                62.708333             68.533333\n",
       "3                71.500000             78.178947\n",
       "4                64.818182             67.863636\n",
       "5                60.488235             63.276471\n",
       "6                50.637037             54.139259"
      ]
     },
     "execution_count": 5,
     "metadata": {},
     "output_type": "execute_result"
    }
   ],
   "source": [
    "# your code here.\n",
    "\n",
    "#checking average of Life expectancy for male and female\n",
    "print(data['MaleLifeExpectancy'].mean())\n",
    "print(data['FemaleLifeExpectancy'].mean())\n",
    "\n",
    "#grouping and averaging Life expectancy for male and female per region\n",
    "data.groupby('Region')[['MaleLifeExpectancy','FemaleLifeExpectancy']].mean()"
   ]
  },
  {
   "cell_type": "markdown",
   "id": "05eda3b9-1957-401c-a97a-7d58f487762f",
   "metadata": {},
   "source": [
    "**Answers:** \n",
    "On average, Females live longer than males, as we can see from results; Average Male Life Expectancy is 61.485 and Average Female Life Expectancy is 66.151\n",
    "\n",
    "No it doesn't change, according to the groupings, we concluded that Females always lives longer than males regardless of the region. Because each of the Female Life Expectancy value in the grouping results are greater than male life expectancy value."
   ]
  },
  {
   "cell_type": "markdown",
   "id": "c5d4f3b9-8fa0-42e4-acfc-39d99debfc4b",
   "metadata": {},
   "source": [
    "<HR/>\n",
    "\n",
    "### <font color = 'blue'>E.</font> \n",
    "##### <font color = 'blue'>Identify the countries with the 20 highest infant mortality rates. Display all available data for these countries. Then create a table that shows the distribution of these countries between the six regions (i.e., how many of these countries are in each region of the world). </font>\n",
    "\n",
    "<HR/>"
   ]
  },
  {
   "cell_type": "code",
   "execution_count": 6,
   "id": "7c4a0b9a-dc54-4fb8-bd04-a7cbe4dde94a",
   "metadata": {},
   "outputs": [
    {
     "name": "stdout",
     "output_type": "stream",
     "text": [
      "    LiveBirthRate  DeathRate  InfantDeaths  MaleLifeExpectancy  \\\n",
      "42           40.4       18.7         181.6                41.0   \n",
      "86           48.2       23.4         154.0                39.4   \n",
      "77           47.4       21.4         143.0                41.4   \n",
      "83           45.0       18.5         141.0                44.9   \n",
      "71           47.2       20.2         137.0                42.9   \n",
      "75           48.6       20.7         137.0                42.4   \n",
      "84           44.0       12.1         135.0                55.0   \n",
      "87           50.1       20.2         132.0                43.4   \n",
      "81           48.3       25.0         130.0                38.1   \n",
      "55           41.4       16.6         130.0                47.0   \n",
      "63           39.6       14.8         128.0                50.9   \n",
      "54           42.2       15.5         119.0                56.9   \n",
      "90           46.8       12.5         118.0                42.9   \n",
      "12           46.6       18.0         111.0                51.0   \n",
      "19           32.9        8.3         109.9                56.8   \n",
      "44           42.5       11.5         108.1                55.8   \n",
      "89           44.6       15.8         108.0                48.6   \n",
      "64           30.3        8.1         107.7                59.0   \n",
      "93           50.5       14.0         106.0                51.3   \n",
      "85           48.5       15.6         105.0                48.8   \n",
      "\n",
      "    FemaleLifeExpectancy     GNI  Region       Country  \n",
      "42                  42.0   168.0       5   Afghanistan  \n",
      "86                  42.6   240.0       6  Sierra_Leone  \n",
      "77                  44.6   260.0       6        Gambia  \n",
      "83                  48.1    80.0       6    Mozambique  \n",
      "71                  46.1   610.0       6        Angola  \n",
      "75                  45.6   120.0       6      Ethiopia  \n",
      "84                  57.5  1030.0       6       Namibia  \n",
      "87                  46.6   120.0       6       Somalia  \n",
      "81                  41.2   200.0       6        Malawi  \n",
      "55                  49.9     NaN       5      Cambodia  \n",
      "63                  48.1   170.0       5         Nepal  \n",
      "54                  56.0   210.0       5    Bangladesh  \n",
      "90                  49.5   810.0       6     Swaziland  \n",
      "12                  55.4   630.0       2       Bolivia  \n",
      "19                  66.5  1160.0       2          Peru  \n",
      "44                  55.0  2490.0       4          Iran  \n",
      "89                  51.0   480.0       6         Sudan  \n",
      "64                  59.2   380.0       5      Pakistan  \n",
      "93                  54.7   110.0       6      Tanzania  \n",
      "85                  52.2   360.0       6       Nigeria  \n"
     ]
    },
    {
     "data": {
      "text/html": [
       "<div>\n",
       "<style scoped>\n",
       "    .dataframe tbody tr th:only-of-type {\n",
       "        vertical-align: middle;\n",
       "    }\n",
       "\n",
       "    .dataframe tbody tr th {\n",
       "        vertical-align: top;\n",
       "    }\n",
       "\n",
       "    .dataframe thead th {\n",
       "        text-align: right;\n",
       "    }\n",
       "</style>\n",
       "<table border=\"1\" class=\"dataframe\">\n",
       "  <thead>\n",
       "    <tr style=\"text-align: right;\">\n",
       "      <th></th>\n",
       "      <th>Country</th>\n",
       "    </tr>\n",
       "    <tr>\n",
       "      <th>Region</th>\n",
       "      <th></th>\n",
       "    </tr>\n",
       "  </thead>\n",
       "  <tbody>\n",
       "    <tr>\n",
       "      <th>2</th>\n",
       "      <td>2</td>\n",
       "    </tr>\n",
       "    <tr>\n",
       "      <th>4</th>\n",
       "      <td>1</td>\n",
       "    </tr>\n",
       "    <tr>\n",
       "      <th>5</th>\n",
       "      <td>5</td>\n",
       "    </tr>\n",
       "    <tr>\n",
       "      <th>6</th>\n",
       "      <td>12</td>\n",
       "    </tr>\n",
       "  </tbody>\n",
       "</table>\n",
       "</div>"
      ],
      "text/plain": [
       "        Country\n",
       "Region         \n",
       "2             2\n",
       "4             1\n",
       "5             5\n",
       "6            12"
      ]
     },
     "execution_count": 6,
     "metadata": {},
     "output_type": "execute_result"
    }
   ],
   "source": [
    "\n",
    "#creating new dataframe and sorting values\n",
    "newdata =data.sort_values('InfantDeaths',ascending = False).head(20)\n",
    "\n",
    "#printing results\n",
    "print(newdata)\n",
    "\n",
    "#grouping by per region\n",
    "newdata.groupby('Region')[['Country']].count()"
   ]
  },
  {
   "cell_type": "markdown",
   "id": "87f2e6fe-d799-4c38-85ee-bc4ab53b03b9",
   "metadata": {},
   "source": [
    "### <font color = 'blue'>F. </font>\n",
    "\n",
    "##### <font color = 'blue'>Plot Infant mortality rates (the default plot will plot row #s on the X-axis). In a new cell, plot GNI (Gross National Income) values. Do you see any evidence indicating that wealth is related to infant mortality? What relation do you think the data may be pointing to?</font>\n",
    "Note: The charts created here are not the best for this analysis. We will learn how to create scatter plots in the Visualization lesson."
   ]
  },
  {
   "cell_type": "code",
   "execution_count": 7,
   "id": "a389238e-aa20-415d-af85-a8b620cdd09d",
   "metadata": {},
   "outputs": [
    {
     "data": {
      "text/plain": [
       "<AxesSubplot:>"
      ]
     },
     "execution_count": 7,
     "metadata": {},
     "output_type": "execute_result"
    },
    {
     "data": {
      "image/png": "[encoded data removed]",
      "text/plain": [
       "<Figure size 432x288 with 1 Axes>"
      ]
     },
     "metadata": {
      "needs_background": "light"
     },
     "output_type": "display_data"
    }
   ],
   "source": [
    "# your code for Infant Deaths plot here.\n",
    "\n",
    "data['InfantDeaths'].plot()\n"
   ]
  },
  {
   "cell_type": "code",
   "execution_count": 8,
   "id": "fa5544e8-c94d-40f1-a8ce-e733793dacbb",
   "metadata": {},
   "outputs": [
    {
     "data": {
      "text/plain": [
       "<AxesSubplot:>"
      ]
     },
     "execution_count": 8,
     "metadata": {},
     "output_type": "execute_result"
    },
    {
     "data": {
      "image/png": "[encoded data removed]",
      "text/plain": [
       "<Figure size 432x288 with 1 Axes>"
      ]
     },
     "metadata": {
      "needs_background": "light"
     },
     "output_type": "display_data"
    }
   ],
   "source": [
    "# your code for GNI rate plot here. \n",
    "\n",
    "data['GNI'] = pd.to_numeric(data['GNI'])\n",
    "data['GNI'].plot()"
   ]
  },
  {
   "cell_type": "markdown",
   "id": "130611ec-953e-4a82-964c-b62bd33772e1",
   "metadata": {},
   "source": [
    "**Answers:** Your answers here.\n",
    "\n",
    "So, we concluded from GNI and Infant Mortility rate graphs that wealth and Infant Deaths have an inverse relationship. Where the GNI is low in the second graph, the Infant Mortality rates are higher in the first graph. The peak of the first graph of Infant Deaths inversely relate to the lowest value in second graph of GNI.\n"
   ]
  }
 ],
 "metadata": {
  "kernelspec": {
   "display_name": "Python 3",
   "language": "python",
   "name": "python3"
  },
  "language_info": {
   "codemirror_mode": {
    "name": "ipython",
    "version": 3
   },
   "file_extension": ".py",
   "mimetype": "text/x-python",
   "name": "python",
   "nbconvert_exporter": "python",
   "pygments_lexer": "ipython3",
   "version": "3.8.8"
  }
 },
 "nbformat": 4,
 "nbformat_minor": 5
}
