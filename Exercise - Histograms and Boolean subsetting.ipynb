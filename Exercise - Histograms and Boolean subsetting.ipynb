{
 "cells": [
  {
   "cell_type": "code",
   "execution_count": 1,
   "id": "b5b5f750-76e8-4955-8ccf-21f1ec66369f",
   "metadata": {},
   "outputs": [],
   "source": [
    "import pandas as pd\n",
    "\n",
    "povData = pd.read_csv('../scratch/PovertyData.csv', sep=',',na_values=\"*\")"
   ]
  },
  {
   "cell_type": "markdown",
   "id": "0974ac68-54af-4458-bf9e-f906bbd1c95c",
   "metadata": {},
   "source": [
    "## Exercise 1\n",
    "\n",
    "View the first 7 rows of the data frame."
   ]
  },
  {
   "cell_type": "code",
   "execution_count": 2,
   "id": "136d1217-459c-4773-84ac-ae54ca1b5870",
   "metadata": {},
   "outputs": [
    {
     "data": {
      "text/html": [
       "<div>\n",
       "<style scoped>\n",
       "    .dataframe tbody tr th:only-of-type {\n",
       "        vertical-align: middle;\n",
       "    }\n",
       "\n",
       "    .dataframe tbody tr th {\n",
       "        vertical-align: top;\n",
       "    }\n",
       "\n",
       "    .dataframe thead th {\n",
       "        text-align: right;\n",
       "    }\n",
       "</style>\n",
       "<table border=\"1\" class=\"dataframe\">\n",
       "  <thead>\n",
       "    <tr style=\"text-align: right;\">\n",
       "      <th></th>\n",
       "      <th>LiveBirthRate</th>\n",
       "      <th>DeathRate</th>\n",
       "      <th>InfantDeaths</th>\n",
       "      <th>MaleLifeExpectancy</th>\n",
       "      <th>FemaleLifeExpectancy</th>\n",
       "      <th>GNI</th>\n",
       "      <th>Region</th>\n",
       "      <th>Country</th>\n",
       "    </tr>\n",
       "  </thead>\n",
       "  <tbody>\n",
       "    <tr>\n",
       "      <th>0</th>\n",
       "      <td>24.7</td>\n",
       "      <td>5.7</td>\n",
       "      <td>30.8</td>\n",
       "      <td>69.6</td>\n",
       "      <td>75.5</td>\n",
       "      <td>600.0</td>\n",
       "      <td>1</td>\n",
       "      <td>Albania</td>\n",
       "    </tr>\n",
       "    <tr>\n",
       "      <th>1</th>\n",
       "      <td>12.5</td>\n",
       "      <td>11.9</td>\n",
       "      <td>14.4</td>\n",
       "      <td>68.3</td>\n",
       "      <td>74.7</td>\n",
       "      <td>2250.0</td>\n",
       "      <td>1</td>\n",
       "      <td>Bulgaria</td>\n",
       "    </tr>\n",
       "    <tr>\n",
       "      <th>2</th>\n",
       "      <td>13.4</td>\n",
       "      <td>11.7</td>\n",
       "      <td>11.3</td>\n",
       "      <td>71.8</td>\n",
       "      <td>77.7</td>\n",
       "      <td>2980.0</td>\n",
       "      <td>1</td>\n",
       "      <td>Czechoslovakia</td>\n",
       "    </tr>\n",
       "    <tr>\n",
       "      <th>3</th>\n",
       "      <td>12.0</td>\n",
       "      <td>12.4</td>\n",
       "      <td>7.6</td>\n",
       "      <td>69.8</td>\n",
       "      <td>75.9</td>\n",
       "      <td>NaN</td>\n",
       "      <td>1</td>\n",
       "      <td>Former_E._Germany</td>\n",
       "    </tr>\n",
       "    <tr>\n",
       "      <th>4</th>\n",
       "      <td>11.6</td>\n",
       "      <td>13.4</td>\n",
       "      <td>14.8</td>\n",
       "      <td>65.4</td>\n",
       "      <td>73.8</td>\n",
       "      <td>2780.0</td>\n",
       "      <td>1</td>\n",
       "      <td>Hungary</td>\n",
       "    </tr>\n",
       "    <tr>\n",
       "      <th>5</th>\n",
       "      <td>14.3</td>\n",
       "      <td>10.2</td>\n",
       "      <td>16.0</td>\n",
       "      <td>67.2</td>\n",
       "      <td>75.7</td>\n",
       "      <td>1690.0</td>\n",
       "      <td>1</td>\n",
       "      <td>Poland</td>\n",
       "    </tr>\n",
       "    <tr>\n",
       "      <th>6</th>\n",
       "      <td>13.6</td>\n",
       "      <td>10.7</td>\n",
       "      <td>26.9</td>\n",
       "      <td>66.5</td>\n",
       "      <td>72.4</td>\n",
       "      <td>1640.0</td>\n",
       "      <td>1</td>\n",
       "      <td>Romania</td>\n",
       "    </tr>\n",
       "  </tbody>\n",
       "</table>\n",
       "</div>"
      ],
      "text/plain": [
       "   LiveBirthRate  DeathRate  InfantDeaths  MaleLifeExpectancy  \\\n",
       "0           24.7        5.7          30.8                69.6   \n",
       "1           12.5       11.9          14.4                68.3   \n",
       "2           13.4       11.7          11.3                71.8   \n",
       "3           12.0       12.4           7.6                69.8   \n",
       "4           11.6       13.4          14.8                65.4   \n",
       "5           14.3       10.2          16.0                67.2   \n",
       "6           13.6       10.7          26.9                66.5   \n",
       "\n",
       "   FemaleLifeExpectancy     GNI  Region            Country  \n",
       "0                  75.5   600.0       1            Albania  \n",
       "1                  74.7  2250.0       1           Bulgaria  \n",
       "2                  77.7  2980.0       1     Czechoslovakia  \n",
       "3                  75.9     NaN       1  Former_E._Germany  \n",
       "4                  73.8  2780.0       1            Hungary  \n",
       "5                  75.7  1690.0       1             Poland  \n",
       "6                  72.4  1640.0       1            Romania  "
      ]
     },
     "execution_count": 2,
     "metadata": {},
     "output_type": "execute_result"
    }
   ],
   "source": [
    "povData.iloc[0:7]"
   ]
  },
  {
   "cell_type": "markdown",
   "id": "5bb3eb82-a92a-4ab9-9650-3b1e1b0af9df",
   "metadata": {},
   "source": [
    "## Exercise 2\n",
    "\n",
    "Print the highest infant mortality rate in the dataset."
   ]
  },
  {
   "cell_type": "code",
   "execution_count": 3,
   "id": "1d582785-f507-4c4b-add9-02bbe4abc009",
   "metadata": {},
   "outputs": [
    {
     "data": {
      "text/plain": [
       "181.6"
      ]
     },
     "execution_count": 3,
     "metadata": {},
     "output_type": "execute_result"
    }
   ],
   "source": [
    "povData['InfantDeaths'].max()"
   ]
  },
  {
   "cell_type": "markdown",
   "id": "7c71cd48-5d5e-4522-abfe-2dad5d3b6e0a",
   "metadata": {},
   "source": [
    "## Exercise 3\n",
    "\n",
    "Use slicing and sorting functionality to retrieve the highest infant mortality rate in the dataset."
   ]
  },
  {
   "cell_type": "code",
   "execution_count": 4,
   "id": "cc2c037a-57de-4b2e-b165-acb8fb9f18fd",
   "metadata": {},
   "outputs": [
    {
     "data": {
      "text/plain": [
       "181.6"
      ]
     },
     "execution_count": 4,
     "metadata": {},
     "output_type": "execute_result"
    }
   ],
   "source": [
    "sorted(povData['InfantDeaths'])[-1]"
   ]
  },
  {
   "cell_type": "markdown",
   "id": "fdb9d209-429e-42b0-94b6-17607224e592",
   "metadata": {},
   "source": [
    "## Exercise 4\n",
    "\n",
    "Use the slicing functionality (don't use sorting) to find the country that has the lowest infant mortality rate."
   ]
  },
  {
   "cell_type": "code",
   "execution_count": 98,
   "id": "c41c3e4e-2421-42ae-95b2-5bc9a0fc97aa",
   "metadata": {},
   "outputs": [
    {
     "data": {
      "text/plain": [
       "39    Japan\n",
       "Name: Country, dtype: object"
      ]
     },
     "execution_count": 98,
     "metadata": {},
     "output_type": "execute_result"
    }
   ],
   "source": [
    "povData[povData['InfantDeaths'].min() == povData['InfantDeaths']]['Country'] #we are getting blank here, don't know why"
   ]
  },
  {
   "cell_type": "markdown",
   "id": "7b7a2eef-12e7-448e-a054-d5c45fa75ee1",
   "metadata": {},
   "source": [
    "## Exercise 5\n",
    "\n",
    "Find the mean, median and mode of female life expectancy"
   ]
  },
  {
   "cell_type": "code",
   "execution_count": 18,
   "id": "ba2ebb5d-ca75-4852-b450-78fa3cf39257",
   "metadata": {},
   "outputs": [
    {
     "name": "stdout",
     "output_type": "stream",
     "text": [
      "Mean: 66.15113402061857\n",
      "Median: 67.8\n",
      "Mode: 0    74.0\n",
      "dtype: float64\n"
     ]
    }
   ],
   "source": [
    "print('Mean:',povData['FemaleLifeExpectancy'].mean())\n",
    "print('Median:',povData['FemaleLifeExpectancy'].median())\n",
    "print('Mode:',povData['FemaleLifeExpectancy'].mode())"
   ]
  },
  {
   "cell_type": "markdown",
   "id": "9ac48de9-6cf8-4c9c-8f15-e5ab02df7877",
   "metadata": {},
   "source": [
    "## Exercise 6\n",
    "\n",
    "Draw two histograms - one of live birth rates and the other or death rates."
   ]
  },
  {
   "cell_type": "code",
   "execution_count": 27,
   "id": "208c1563-996e-4057-b9fb-2d7ab87f4335",
   "metadata": {},
   "outputs": [
    {
     "data": {
      "text/plain": [
       "<AxesSubplot:>"
      ]
     },
     "execution_count": 27,
     "metadata": {},
     "output_type": "execute_result"
    },
    {
     "data": {
      "image/png": "[encoded data removed]",
      "text/plain": [
       "<Figure size 432x288 with 1 Axes>"
      ]
     },
     "metadata": {
      "needs_background": "light"
     },
     "output_type": "display_data"
    }
   ],
   "source": [
    "povData['LiveBirthRate'].hist()"
   ]
  },
  {
   "cell_type": "code",
   "execution_count": 28,
   "id": "b64de43d-f108-4773-93c5-50cb77844dd9",
   "metadata": {},
   "outputs": [
    {
     "data": {
      "text/plain": [
       "<AxesSubplot:>"
      ]
     },
     "execution_count": 28,
     "metadata": {},
     "output_type": "execute_result"
    },
    {
     "data": {
      "image/png": "[encoded data removed]",
      "text/plain": [
       "<Figure size 432x288 with 1 Axes>"
      ]
     },
     "metadata": {
      "needs_background": "light"
     },
     "output_type": "display_data"
    }
   ],
   "source": [
    "povData['DeathRate'].hist()"
   ]
  },
  {
   "cell_type": "markdown",
   "id": "5636c966-bf97-47a4-b467-807296929968",
   "metadata": {},
   "source": [
    "## Exercise 7\n",
    "\n",
    "Check if Ethiopia is included in the sample of 97 countries."
   ]
  },
  {
   "cell_type": "code",
   "execution_count": 30,
   "id": "22df991b-fb74-49d0-ad8e-697e9a6acdf3",
   "metadata": {},
   "outputs": [
    {
     "data": {
      "text/html": [
       "<div>\n",
       "<style scoped>\n",
       "    .dataframe tbody tr th:only-of-type {\n",
       "        vertical-align: middle;\n",
       "    }\n",
       "\n",
       "    .dataframe tbody tr th {\n",
       "        vertical-align: top;\n",
       "    }\n",
       "\n",
       "    .dataframe thead th {\n",
       "        text-align: right;\n",
       "    }\n",
       "</style>\n",
       "<table border=\"1\" class=\"dataframe\">\n",
       "  <thead>\n",
       "    <tr style=\"text-align: right;\">\n",
       "      <th></th>\n",
       "      <th>LiveBirthRate</th>\n",
       "      <th>DeathRate</th>\n",
       "      <th>InfantDeaths</th>\n",
       "      <th>MaleLifeExpectancy</th>\n",
       "      <th>FemaleLifeExpectancy</th>\n",
       "      <th>GNI</th>\n",
       "      <th>Region</th>\n",
       "      <th>Country</th>\n",
       "    </tr>\n",
       "  </thead>\n",
       "  <tbody>\n",
       "    <tr>\n",
       "      <th>75</th>\n",
       "      <td>48.6</td>\n",
       "      <td>20.7</td>\n",
       "      <td>137.0</td>\n",
       "      <td>42.4</td>\n",
       "      <td>45.6</td>\n",
       "      <td>120.0</td>\n",
       "      <td>6</td>\n",
       "      <td>Ethiopia</td>\n",
       "    </tr>\n",
       "  </tbody>\n",
       "</table>\n",
       "</div>"
      ],
      "text/plain": [
       "    LiveBirthRate  DeathRate  InfantDeaths  MaleLifeExpectancy  \\\n",
       "75           48.6       20.7         137.0                42.4   \n",
       "\n",
       "    FemaleLifeExpectancy    GNI  Region   Country  \n",
       "75                  45.6  120.0       6  Ethiopia  "
      ]
     },
     "execution_count": 30,
     "metadata": {},
     "output_type": "execute_result"
    }
   ],
   "source": [
    "povData[povData['Country'] == 'Ethiopia']"
   ]
  },
  {
   "cell_type": "code",
   "execution_count": 34,
   "id": "7c3f0668-7a41-41c8-ad65-ad5b978ac41f",
   "metadata": {},
   "outputs": [
    {
     "data": {
      "text/plain": [
       "0     False\n",
       "1     False\n",
       "2     False\n",
       "3     False\n",
       "4     False\n",
       "      ...  \n",
       "92    False\n",
       "93    False\n",
       "94    False\n",
       "95    False\n",
       "96    False\n",
       "Name: Country, Length: 97, dtype: bool"
      ]
     },
     "execution_count": 34,
     "metadata": {},
     "output_type": "execute_result"
    }
   ],
   "source": [
    "Eth_data = povData['Country']\n",
    "\n",
    "Eth_data == 'Ethiopia'"
   ]
  },
  {
   "cell_type": "markdown",
   "id": "b1bad7bf-81fe-408a-9b50-ece92a18c9e4",
   "metadata": {},
   "source": [
    "## Exercise 8\n",
    "\n",
    "Show the descriptive statistics for Region 5."
   ]
  },
  {
   "cell_type": "code",
   "execution_count": 37,
   "id": "1818c115-dc60-4c62-a5f5-a04cb6613b45",
   "metadata": {},
   "outputs": [
    {
     "data": {
      "text/html": [
       "<div>\n",
       "<style scoped>\n",
       "    .dataframe tbody tr th:only-of-type {\n",
       "        vertical-align: middle;\n",
       "    }\n",
       "\n",
       "    .dataframe tbody tr th {\n",
       "        vertical-align: top;\n",
       "    }\n",
       "\n",
       "    .dataframe thead th {\n",
       "        text-align: right;\n",
       "    }\n",
       "</style>\n",
       "<table border=\"1\" class=\"dataframe\">\n",
       "  <thead>\n",
       "    <tr style=\"text-align: right;\">\n",
       "      <th></th>\n",
       "      <th>LiveBirthRate</th>\n",
       "      <th>DeathRate</th>\n",
       "      <th>InfantDeaths</th>\n",
       "      <th>MaleLifeExpectancy</th>\n",
       "      <th>FemaleLifeExpectancy</th>\n",
       "      <th>GNI</th>\n",
       "      <th>Region</th>\n",
       "    </tr>\n",
       "  </thead>\n",
       "  <tbody>\n",
       "    <tr>\n",
       "      <th>count</th>\n",
       "      <td>17.000000</td>\n",
       "      <td>17.000000</td>\n",
       "      <td>17.000000</td>\n",
       "      <td>17.000000</td>\n",
       "      <td>17.000000</td>\n",
       "      <td>14.000000</td>\n",
       "      <td>17.0</td>\n",
       "    </tr>\n",
       "    <tr>\n",
       "      <th>mean</th>\n",
       "      <td>29.617647</td>\n",
       "      <td>10.217647</td>\n",
       "      <td>67.723529</td>\n",
       "      <td>60.488235</td>\n",
       "      <td>63.276471</td>\n",
       "      <td>2332.000000</td>\n",
       "      <td>5.0</td>\n",
       "    </tr>\n",
       "    <tr>\n",
       "      <th>std</th>\n",
       "      <td>8.911316</td>\n",
       "      <td>4.659431</td>\n",
       "      <td>51.345990</td>\n",
       "      <td>8.703296</td>\n",
       "      <td>10.620766</td>\n",
       "      <td>4466.427655</td>\n",
       "      <td>0.0</td>\n",
       "    </tr>\n",
       "    <tr>\n",
       "      <th>min</th>\n",
       "      <td>11.700000</td>\n",
       "      <td>4.900000</td>\n",
       "      <td>6.100000</td>\n",
       "      <td>41.000000</td>\n",
       "      <td>42.000000</td>\n",
       "      <td>110.000000</td>\n",
       "      <td>5.0</td>\n",
       "    </tr>\n",
       "    <tr>\n",
       "      <th>25%</th>\n",
       "      <td>22.300000</td>\n",
       "      <td>6.700000</td>\n",
       "      <td>25.000000</td>\n",
       "      <td>56.900000</td>\n",
       "      <td>56.000000</td>\n",
       "      <td>245.000000</td>\n",
       "      <td>5.0</td>\n",
       "    </tr>\n",
       "    <tr>\n",
       "      <th>50%</th>\n",
       "      <td>30.500000</td>\n",
       "      <td>8.800000</td>\n",
       "      <td>64.000000</td>\n",
       "      <td>62.500000</td>\n",
       "      <td>66.100000</td>\n",
       "      <td>425.000000</td>\n",
       "      <td>5.0</td>\n",
       "    </tr>\n",
       "    <tr>\n",
       "      <th>75%</th>\n",
       "      <td>36.100000</td>\n",
       "      <td>14.800000</td>\n",
       "      <td>107.700000</td>\n",
       "      <td>67.500000</td>\n",
       "      <td>71.600000</td>\n",
       "      <td>1247.500000</td>\n",
       "      <td>5.0</td>\n",
       "    </tr>\n",
       "    <tr>\n",
       "      <th>max</th>\n",
       "      <td>42.200000</td>\n",
       "      <td>18.700000</td>\n",
       "      <td>181.600000</td>\n",
       "      <td>74.300000</td>\n",
       "      <td>80.100000</td>\n",
       "      <td>14210.000000</td>\n",
       "      <td>5.0</td>\n",
       "    </tr>\n",
       "  </tbody>\n",
       "</table>\n",
       "</div>"
      ],
      "text/plain": [
       "       LiveBirthRate  DeathRate  InfantDeaths  MaleLifeExpectancy  \\\n",
       "count      17.000000  17.000000     17.000000           17.000000   \n",
       "mean       29.617647  10.217647     67.723529           60.488235   \n",
       "std         8.911316   4.659431     51.345990            8.703296   \n",
       "min        11.700000   4.900000      6.100000           41.000000   \n",
       "25%        22.300000   6.700000     25.000000           56.900000   \n",
       "50%        30.500000   8.800000     64.000000           62.500000   \n",
       "75%        36.100000  14.800000    107.700000           67.500000   \n",
       "max        42.200000  18.700000    181.600000           74.300000   \n",
       "\n",
       "       FemaleLifeExpectancy           GNI  Region  \n",
       "count             17.000000     14.000000    17.0  \n",
       "mean              63.276471   2332.000000     5.0  \n",
       "std               10.620766   4466.427655     0.0  \n",
       "min               42.000000    110.000000     5.0  \n",
       "25%               56.000000    245.000000     5.0  \n",
       "50%               66.100000    425.000000     5.0  \n",
       "75%               71.600000   1247.500000     5.0  \n",
       "max               80.100000  14210.000000     5.0  "
      ]
     },
     "execution_count": 37,
     "metadata": {},
     "output_type": "execute_result"
    }
   ],
   "source": [
    "povData[povData['Region'] == 5].describe()"
   ]
  },
  {
   "cell_type": "markdown",
   "id": "9a3cf02d-3b3c-4beb-80e8-eda9d624595d",
   "metadata": {},
   "source": [
    "## Exercise 9\n",
    "\n",
    "Print all countries of region 5 that have a death rate less than the average death rate in the dataset."
   ]
  },
  {
   "cell_type": "code",
   "execution_count": 49,
   "id": "7e2a48b1-bdad-413c-82c5-5e8bc0071f33",
   "metadata": {},
   "outputs": [
    {
     "name": "stdout",
     "output_type": "stream",
     "text": [
      "10.836082474226805\n",
      "0             Albania\n",
      "5              Poland\n",
      "6             Romania\n",
      "7          Yugoslavia\n",
      "8                USSR\n",
      "9    Byelorussian_SSR\n",
      "Name: Country, dtype: object\n"
     ]
    }
   ],
   "source": [
    "mean_death_rate = povData['DeathRate'].mean()\n",
    "print(mean_data)\n",
    "\n",
    "data=povData[povData['Region'] == 5 & (povData['DeathRate'] < mean_death_rate)]\n",
    "\n",
    "print(data['Country'])"
   ]
  }
 ],
 "metadata": {
  "kernelspec": {
   "display_name": "Python 3",
   "language": "python",
   "name": "python3"
  },
  "language_info": {
   "codemirror_mode": {
    "name": "ipython",
    "version": 3
   },
   "file_extension": ".py",
   "mimetype": "text/x-python",
   "name": "python",
   "nbconvert_exporter": "python",
   "pygments_lexer": "ipython3",
   "version": "3.8.8"
  }
 },
 "nbformat": 4,
 "nbformat_minor": 5
}
